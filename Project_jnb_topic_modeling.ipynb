{
 "cells": [
  {
   "cell_type": "code",
   "execution_count": 61,
   "metadata": {},
   "outputs": [],
   "source": [
    "import numpy as np\n",
    "import pandas as pd\n",
    "\n",
    "from matplotlib import pyplot as plt\n",
    "\n",
    "import nltk\n",
    "from nltk.stem import WordNetLemmatizer\n",
    "from nltk.tokenize import word_tokenize, sent_tokenize\n",
    "\n",
    "from sklearn.model_selection import train_test_split, RandomizedSearchCV\n",
    "from sklearn.linear_model import LogisticRegression\n",
    "from sklearn.ensemble import RandomForestClassifier\n",
    "from sklearn.decomposition import NMF, LatentDirichletAllocation\n",
    "from sklearn.feature_extraction.text import CountVectorizer, TfidfVectorizer\n",
    "from sklearn.preprocessing import normalize\n",
    "from sklearn import metrics\n",
    "from time import time"
   ]
  },
  {
   "cell_type": "code",
   "execution_count": 2,
   "metadata": {},
   "outputs": [
    {
     "data": {
      "text/plain": [
       "(10000, 8)"
      ]
     },
     "execution_count": 2,
     "metadata": {},
     "output_type": "execute_result"
    }
   ],
   "source": [
    "drug_reviews = pd.read_csv(\"https://raw.githubusercontent.com/smeng0428/CIS9665/main/drug_reviews.csv\")\n",
    "drug_reviews.shape"
   ]
  },
  {
   "cell_type": "code",
   "execution_count": 4,
   "metadata": {},
   "outputs": [],
   "source": [
    "## read in data\n",
    "#train_set = pd.read_csv('drugsComTrain_raw.csv')\n",
    "##val_set = pd.read_csv('drugsComTest_raw.csv')\n",
    "## we are using t first 5000 for faster training time\n",
    "#drug_reviews = pd.read_csv('drugsComTrain_raw.csv')\n",
    "#drug_reviews = drug_reviews.copy()[:10000]\n",
    "#drug_reviews.to_csv('drug_reviews.csv')"
   ]
  },
  {
   "cell_type": "code",
   "execution_count": 10,
   "metadata": {},
   "outputs": [
    {
     "data": {
      "text/html": [
       "<div>\n",
       "<style scoped>\n",
       "    .dataframe tbody tr th:only-of-type {\n",
       "        vertical-align: middle;\n",
       "    }\n",
       "\n",
       "    .dataframe tbody tr th {\n",
       "        vertical-align: top;\n",
       "    }\n",
       "\n",
       "    .dataframe thead th {\n",
       "        text-align: right;\n",
       "    }\n",
       "</style>\n",
       "<table border=\"1\" class=\"dataframe\">\n",
       "  <thead>\n",
       "    <tr style=\"text-align: right;\">\n",
       "      <th></th>\n",
       "      <th>Unnamed: 0</th>\n",
       "      <th>uniqueID</th>\n",
       "      <th>drugName</th>\n",
       "      <th>condition</th>\n",
       "      <th>review</th>\n",
       "      <th>rating</th>\n",
       "      <th>date</th>\n",
       "      <th>usefulCount</th>\n",
       "    </tr>\n",
       "  </thead>\n",
       "  <tbody>\n",
       "    <tr>\n",
       "      <th>0</th>\n",
       "      <td>0</td>\n",
       "      <td>206461</td>\n",
       "      <td>Valsartan</td>\n",
       "      <td>Left Ventricular Dysfunction</td>\n",
       "      <td>\"It has no side effect, I take it in combinati...</td>\n",
       "      <td>9</td>\n",
       "      <td>20-May-12</td>\n",
       "      <td>27</td>\n",
       "    </tr>\n",
       "    <tr>\n",
       "      <th>1</th>\n",
       "      <td>1</td>\n",
       "      <td>95260</td>\n",
       "      <td>Guanfacine</td>\n",
       "      <td>ADHD</td>\n",
       "      <td>\"My son is halfway through his fourth week of ...</td>\n",
       "      <td>8</td>\n",
       "      <td>27-Apr-10</td>\n",
       "      <td>192</td>\n",
       "    </tr>\n",
       "    <tr>\n",
       "      <th>2</th>\n",
       "      <td>2</td>\n",
       "      <td>92703</td>\n",
       "      <td>Lybrel</td>\n",
       "      <td>Birth Control</td>\n",
       "      <td>\"I used to take another oral contraceptive, wh...</td>\n",
       "      <td>5</td>\n",
       "      <td>14-Dec-09</td>\n",
       "      <td>17</td>\n",
       "    </tr>\n",
       "    <tr>\n",
       "      <th>3</th>\n",
       "      <td>3</td>\n",
       "      <td>138000</td>\n",
       "      <td>Ortho Evra</td>\n",
       "      <td>Birth Control</td>\n",
       "      <td>\"This is my first time using any form of birth...</td>\n",
       "      <td>8</td>\n",
       "      <td>3-Nov-15</td>\n",
       "      <td>10</td>\n",
       "    </tr>\n",
       "    <tr>\n",
       "      <th>4</th>\n",
       "      <td>4</td>\n",
       "      <td>35696</td>\n",
       "      <td>Buprenorphine / naloxone</td>\n",
       "      <td>Opiate Dependence</td>\n",
       "      <td>\"Suboxone has completely turned my life around...</td>\n",
       "      <td>9</td>\n",
       "      <td>27-Nov-16</td>\n",
       "      <td>37</td>\n",
       "    </tr>\n",
       "  </tbody>\n",
       "</table>\n",
       "</div>"
      ],
      "text/plain": [
       "   Unnamed: 0  uniqueID                  drugName  \\\n",
       "0           0    206461                 Valsartan   \n",
       "1           1     95260                Guanfacine   \n",
       "2           2     92703                    Lybrel   \n",
       "3           3    138000                Ortho Evra   \n",
       "4           4     35696  Buprenorphine / naloxone   \n",
       "\n",
       "                      condition  \\\n",
       "0  Left Ventricular Dysfunction   \n",
       "1                          ADHD   \n",
       "2                 Birth Control   \n",
       "3                 Birth Control   \n",
       "4             Opiate Dependence   \n",
       "\n",
       "                                              review  rating       date  \\\n",
       "0  \"It has no side effect, I take it in combinati...       9  20-May-12   \n",
       "1  \"My son is halfway through his fourth week of ...       8  27-Apr-10   \n",
       "2  \"I used to take another oral contraceptive, wh...       5  14-Dec-09   \n",
       "3  \"This is my first time using any form of birth...       8   3-Nov-15   \n",
       "4  \"Suboxone has completely turned my life around...       9  27-Nov-16   \n",
       "\n",
       "   usefulCount  \n",
       "0           27  \n",
       "1          192  \n",
       "2           17  \n",
       "3           10  \n",
       "4           37  "
      ]
     },
     "execution_count": 10,
     "metadata": {},
     "output_type": "execute_result"
    }
   ],
   "source": [
    "drug_reviews.head(5)"
   ]
  },
  {
   "cell_type": "code",
   "execution_count": 4,
   "metadata": {},
   "outputs": [],
   "source": [
    "#train_set.shape"
   ]
  },
  {
   "cell_type": "code",
   "execution_count": 5,
   "metadata": {},
   "outputs": [],
   "source": [
    "#val_set.shape"
   ]
  },
  {
   "cell_type": "code",
   "execution_count": 6,
   "metadata": {},
   "outputs": [],
   "source": [
    "#train_set.describe()"
   ]
  },
  {
   "cell_type": "code",
   "execution_count": 7,
   "metadata": {},
   "outputs": [],
   "source": [
    "#len(set(train_set.condition))"
   ]
  },
  {
   "cell_type": "code",
   "execution_count": 8,
   "metadata": {},
   "outputs": [],
   "source": [
    "#train_set.usefulCount.hist()"
   ]
  },
  {
   "cell_type": "code",
   "execution_count": 9,
   "metadata": {},
   "outputs": [],
   "source": [
    "#val_set.usefulCount.hist()"
   ]
  },
  {
   "cell_type": "code",
   "execution_count": 10,
   "metadata": {},
   "outputs": [],
   "source": [
    "#train_set[train_set.usefulCount==max(train_set.usefulCount)]"
   ]
  },
  {
   "cell_type": "code",
   "execution_count": 11,
   "metadata": {},
   "outputs": [],
   "source": [
    "#len(set(val_set.condition))"
   ]
  },
  {
   "cell_type": "code",
   "execution_count": 12,
   "metadata": {},
   "outputs": [],
   "source": [
    "#len(set(train_set.drugName))"
   ]
  },
  {
   "cell_type": "code",
   "execution_count": 13,
   "metadata": {},
   "outputs": [],
   "source": [
    "#len(set(val_set.drugName))"
   ]
  },
  {
   "cell_type": "code",
   "execution_count": 14,
   "metadata": {},
   "outputs": [],
   "source": [
    "#len(set(train_set.review))"
   ]
  },
  {
   "cell_type": "code",
   "execution_count": 3,
   "metadata": {},
   "outputs": [],
   "source": [
    "## borrowed Jacob's codes\n",
    "def replacements(string):\n",
    "    replace_dict = {'\"'      : '',\n",
    "                    '&#039;' : \"'\",\n",
    "                    '&amp'   : '&'}\n",
    "    \n",
    "    for key, value in replace_dict.items():\n",
    "        string = string.replace(key, value)\n",
    "        \n",
    "    return string"
   ]
  },
  {
   "cell_type": "code",
   "execution_count": 4,
   "metadata": {},
   "outputs": [],
   "source": [
    "drug_reviews.review = drug_reviews.review.map(replacements)"
   ]
  },
  {
   "cell_type": "code",
   "execution_count": 17,
   "metadata": {},
   "outputs": [],
   "source": [
    "#train_set['sent'] = train_set.review.map(sent_tokenize)\n",
    "#train_set['word'] = train_set.review.map(word_tokenize)\n"
   ]
  },
  {
   "cell_type": "code",
   "execution_count": 5,
   "metadata": {},
   "outputs": [],
   "source": [
    "# create lemmatizer object\n",
    "lancaster = nltk.LancasterStemmer()\n",
    "\n",
    "# create function to clean text\n",
    "def clean_text(s):\n",
    "    \n",
    "    # convert text to lowercase\n",
    "    s = s.lower()\n",
    "    \n",
    "    # tokenize each review\n",
    "    tokens = nltk.tokenize.word_tokenize(s)\n",
    "     \n",
    "    # stem / lemmatize each token (walked --> walk, computers --> computer, etc.)\n",
    "    clean_tokens = [lancaster.stem(token) for token in tokens]\n",
    "\n",
    "    # remove punctuation\n",
    "    clean_tokens = [token for token in clean_tokens if token.isalpha()]\n",
    "    \n",
    "    # remove stop words\n",
    "    clean_tokens = [token for token in clean_tokens if token not in nltk.corpus.stopwords.words(\"english\")]\n",
    "    \n",
    "    return clean_tokens"
   ]
  },
  {
   "cell_type": "code",
   "execution_count": 14,
   "metadata": {},
   "outputs": [],
   "source": [
    "drug_reviews['sent'] = drug_reviews.review.map(sent_tokenize)\n",
    "drug_reviews['word'] = drug_reviews.review.map(word_tokenize)"
   ]
  },
  {
   "cell_type": "code",
   "execution_count": 15,
   "metadata": {},
   "outputs": [],
   "source": [
    "drug_reviews['avg_sents'] = drug_reviews.sent.map(lambda x:len(x))\n",
    "drug_reviews['avg_words'] = drug_reviews.word.map(lambda x:len(x))"
   ]
  },
  {
   "cell_type": "code",
   "execution_count": 16,
   "metadata": {},
   "outputs": [],
   "source": [
    "drug_reviews['clean_tokens'] = drug_reviews.review.map(clean_text)"
   ]
  },
  {
   "cell_type": "code",
   "execution_count": 17,
   "metadata": {},
   "outputs": [
    {
     "data": {
      "text/plain": [
       "count    10000.000000\n",
       "mean         5.939500\n",
       "std          3.281328\n",
       "min          1.000000\n",
       "25%          3.000000\n",
       "50%          6.000000\n",
       "75%          8.000000\n",
       "max         41.000000\n",
       "Name: avg_sents, dtype: float64"
      ]
     },
     "execution_count": 17,
     "metadata": {},
     "output_type": "execute_result"
    }
   ],
   "source": [
    "drug_reviews['avg_sents'].describe()"
   ]
  },
  {
   "cell_type": "code",
   "execution_count": 6,
   "metadata": {},
   "outputs": [
    {
     "data": {
      "text/plain": [
       "count    10000.000000\n",
       "mean         6.992900\n",
       "std          3.259035\n",
       "min          1.000000\n",
       "25%          4.750000\n",
       "50%          8.000000\n",
       "75%         10.000000\n",
       "max         10.000000\n",
       "Name: rating, dtype: float64"
      ]
     },
     "execution_count": 6,
     "metadata": {},
     "output_type": "execute_result"
    }
   ],
   "source": [
    "drug_reviews.rating.describe()"
   ]
  },
  {
   "cell_type": "code",
   "execution_count": 7,
   "metadata": {},
   "outputs": [
    {
     "data": {
      "text/plain": [
       "count              9941\n",
       "unique              457\n",
       "top       Birth Control\n",
       "freq               1791\n",
       "Name: condition, dtype: object"
      ]
     },
     "execution_count": 7,
     "metadata": {},
     "output_type": "execute_result"
    }
   ],
   "source": [
    "drug_reviews.condition.describe()\n"
   ]
  },
  {
   "cell_type": "code",
   "execution_count": 8,
   "metadata": {},
   "outputs": [],
   "source": [
    "fd = nltk.FreqDist(drug_reviews.condition)"
   ]
  },
  {
   "cell_type": "code",
   "execution_count": 9,
   "metadata": {},
   "outputs": [
    {
     "data": {
      "text/plain": [
       "[('Birth Control', 1791),\n",
       " ('Depression', 589),\n",
       " ('Pain', 397),\n",
       " ('Acne', 356),\n",
       " ('Anxiety', 341),\n",
       " ('Bipolar Disorde', 247),\n",
       " ('Insomnia', 234),\n",
       " ('ADHD', 231),\n",
       " ('Obesity', 214),\n",
       " ('Weight Loss', 213),\n",
       " ('Emergency Contraception', 168),\n",
       " ('Diabetes, Type 2', 163),\n",
       " ('High Blood Pressure', 150),\n",
       " ('Vaginal Yeast Infection', 132),\n",
       " ('Anxiety and Stress', 117),\n",
       " ('ibromyalgia', 116),\n",
       " ('Abnormal Uterine Bleeding', 116),\n",
       " ('Migraine', 108),\n",
       " ('Smoking Cessation', 104),\n",
       " ('Panic Disorde', 99)]"
      ]
     },
     "execution_count": 9,
     "metadata": {},
     "output_type": "execute_result"
    }
   ],
   "source": [
    "fd.most_common(20)"
   ]
  },
  {
   "cell_type": "code",
   "execution_count": 12,
   "metadata": {},
   "outputs": [
    {
     "data": {
      "image/png": "[encoded data removed]",
      "text/plain": [
       "<Figure size 432x288 with 1 Axes>"
      ]
     },
     "metadata": {
      "needs_background": "light"
     },
     "output_type": "display_data"
    },
    {
     "data": {
      "text/plain": [
       "<matplotlib.axes._subplots.AxesSubplot at 0x1b396f475e0>"
      ]
     },
     "execution_count": 12,
     "metadata": {},
     "output_type": "execute_result"
    }
   ],
   "source": [
    "fd.plot(20, cumulative = True)\n",
    "\n",
    "## 20 most common drugs represents about 60% of the reviews"
   ]
  },
  {
   "cell_type": "markdown",
   "metadata": {},
   "source": [
    "## unsupervised learning methods"
   ]
  },
  {
   "cell_type": "code",
   "execution_count": 14,
   "metadata": {},
   "outputs": [],
   "source": [
    "## using tf-idf to get word freq matrix\n",
    "tf_idf = TfidfVectorizer(ngram_range = (1,1), stop_words = \"english\", lowercase = True)\n",
    "## tf_idf give the result to csr_matrix format which is more efficient for sparse matrix\n",
    "## it need to be transform back with toarray() method to ordinary matrix format\n",
    "csr_mat = tf_idf.fit_transform(drug_reviews.review)\n",
    "tf_idf_df =pd.DataFrame(csr_mat.toarray(), \n",
    "                        columns = tf_idf.get_feature_names(),\n",
    "                        index = drug_reviews.index)"
   ]
  },
  {
   "cell_type": "code",
   "execution_count": 24,
   "metadata": {},
   "outputs": [
    {
     "data": {
      "text/html": [
       "<div>\n",
       "<style scoped>\n",
       "    .dataframe tbody tr th:only-of-type {\n",
       "        vertical-align: middle;\n",
       "    }\n",
       "\n",
       "    .dataframe tbody tr th {\n",
       "        vertical-align: top;\n",
       "    }\n",
       "\n",
       "    .dataframe thead th {\n",
       "        text-align: right;\n",
       "    }\n",
       "</style>\n",
       "<table border=\"1\" class=\"dataframe\">\n",
       "  <thead>\n",
       "    <tr style=\"text-align: right;\">\n",
       "      <th></th>\n",
       "      <th>00</th>\n",
       "      <th>000</th>\n",
       "      <th>000mg</th>\n",
       "      <th>000vl</th>\n",
       "      <th>00am</th>\n",
       "      <th>00for</th>\n",
       "      <th>00p</th>\n",
       "      <th>00pm</th>\n",
       "      <th>01</th>\n",
       "      <th>02</th>\n",
       "      <th>...</th>\n",
       "      <th>zyban</th>\n",
       "      <th>zyclara</th>\n",
       "      <th>zydeco</th>\n",
       "      <th>zydis</th>\n",
       "      <th>zydus</th>\n",
       "      <th>zymar</th>\n",
       "      <th>zyprexa</th>\n",
       "      <th>zyrtec</th>\n",
       "      <th>zyvox</th>\n",
       "      <th>zzzquil</th>\n",
       "    </tr>\n",
       "  </thead>\n",
       "  <tbody>\n",
       "    <tr>\n",
       "      <th>0</th>\n",
       "      <td>0.0</td>\n",
       "      <td>0.0</td>\n",
       "      <td>0.0</td>\n",
       "      <td>0.0</td>\n",
       "      <td>0.0</td>\n",
       "      <td>0.0</td>\n",
       "      <td>0.0</td>\n",
       "      <td>0.0</td>\n",
       "      <td>0.0</td>\n",
       "      <td>0.0</td>\n",
       "      <td>...</td>\n",
       "      <td>0.0</td>\n",
       "      <td>0.0</td>\n",
       "      <td>0.0</td>\n",
       "      <td>0.0</td>\n",
       "      <td>0.0</td>\n",
       "      <td>0.0</td>\n",
       "      <td>0.0</td>\n",
       "      <td>0.0</td>\n",
       "      <td>0.0</td>\n",
       "      <td>0.0</td>\n",
       "    </tr>\n",
       "    <tr>\n",
       "      <th>1</th>\n",
       "      <td>0.0</td>\n",
       "      <td>0.0</td>\n",
       "      <td>0.0</td>\n",
       "      <td>0.0</td>\n",
       "      <td>0.0</td>\n",
       "      <td>0.0</td>\n",
       "      <td>0.0</td>\n",
       "      <td>0.0</td>\n",
       "      <td>0.0</td>\n",
       "      <td>0.0</td>\n",
       "      <td>...</td>\n",
       "      <td>0.0</td>\n",
       "      <td>0.0</td>\n",
       "      <td>0.0</td>\n",
       "      <td>0.0</td>\n",
       "      <td>0.0</td>\n",
       "      <td>0.0</td>\n",
       "      <td>0.0</td>\n",
       "      <td>0.0</td>\n",
       "      <td>0.0</td>\n",
       "      <td>0.0</td>\n",
       "    </tr>\n",
       "    <tr>\n",
       "      <th>2</th>\n",
       "      <td>0.0</td>\n",
       "      <td>0.0</td>\n",
       "      <td>0.0</td>\n",
       "      <td>0.0</td>\n",
       "      <td>0.0</td>\n",
       "      <td>0.0</td>\n",
       "      <td>0.0</td>\n",
       "      <td>0.0</td>\n",
       "      <td>0.0</td>\n",
       "      <td>0.0</td>\n",
       "      <td>...</td>\n",
       "      <td>0.0</td>\n",
       "      <td>0.0</td>\n",
       "      <td>0.0</td>\n",
       "      <td>0.0</td>\n",
       "      <td>0.0</td>\n",
       "      <td>0.0</td>\n",
       "      <td>0.0</td>\n",
       "      <td>0.0</td>\n",
       "      <td>0.0</td>\n",
       "      <td>0.0</td>\n",
       "    </tr>\n",
       "    <tr>\n",
       "      <th>3</th>\n",
       "      <td>0.0</td>\n",
       "      <td>0.0</td>\n",
       "      <td>0.0</td>\n",
       "      <td>0.0</td>\n",
       "      <td>0.0</td>\n",
       "      <td>0.0</td>\n",
       "      <td>0.0</td>\n",
       "      <td>0.0</td>\n",
       "      <td>0.0</td>\n",
       "      <td>0.0</td>\n",
       "      <td>...</td>\n",
       "      <td>0.0</td>\n",
       "      <td>0.0</td>\n",
       "      <td>0.0</td>\n",
       "      <td>0.0</td>\n",
       "      <td>0.0</td>\n",
       "      <td>0.0</td>\n",
       "      <td>0.0</td>\n",
       "      <td>0.0</td>\n",
       "      <td>0.0</td>\n",
       "      <td>0.0</td>\n",
       "    </tr>\n",
       "    <tr>\n",
       "      <th>4</th>\n",
       "      <td>0.0</td>\n",
       "      <td>0.0</td>\n",
       "      <td>0.0</td>\n",
       "      <td>0.0</td>\n",
       "      <td>0.0</td>\n",
       "      <td>0.0</td>\n",
       "      <td>0.0</td>\n",
       "      <td>0.0</td>\n",
       "      <td>0.0</td>\n",
       "      <td>0.0</td>\n",
       "      <td>...</td>\n",
       "      <td>0.0</td>\n",
       "      <td>0.0</td>\n",
       "      <td>0.0</td>\n",
       "      <td>0.0</td>\n",
       "      <td>0.0</td>\n",
       "      <td>0.0</td>\n",
       "      <td>0.0</td>\n",
       "      <td>0.0</td>\n",
       "      <td>0.0</td>\n",
       "      <td>0.0</td>\n",
       "    </tr>\n",
       "    <tr>\n",
       "      <th>...</th>\n",
       "      <td>...</td>\n",
       "      <td>...</td>\n",
       "      <td>...</td>\n",
       "      <td>...</td>\n",
       "      <td>...</td>\n",
       "      <td>...</td>\n",
       "      <td>...</td>\n",
       "      <td>...</td>\n",
       "      <td>...</td>\n",
       "      <td>...</td>\n",
       "      <td>...</td>\n",
       "      <td>...</td>\n",
       "      <td>...</td>\n",
       "      <td>...</td>\n",
       "      <td>...</td>\n",
       "      <td>...</td>\n",
       "      <td>...</td>\n",
       "      <td>...</td>\n",
       "      <td>...</td>\n",
       "      <td>...</td>\n",
       "      <td>...</td>\n",
       "    </tr>\n",
       "    <tr>\n",
       "      <th>9995</th>\n",
       "      <td>0.0</td>\n",
       "      <td>0.0</td>\n",
       "      <td>0.0</td>\n",
       "      <td>0.0</td>\n",
       "      <td>0.0</td>\n",
       "      <td>0.0</td>\n",
       "      <td>0.0</td>\n",
       "      <td>0.0</td>\n",
       "      <td>0.0</td>\n",
       "      <td>0.0</td>\n",
       "      <td>...</td>\n",
       "      <td>0.0</td>\n",
       "      <td>0.0</td>\n",
       "      <td>0.0</td>\n",
       "      <td>0.0</td>\n",
       "      <td>0.0</td>\n",
       "      <td>0.0</td>\n",
       "      <td>0.0</td>\n",
       "      <td>0.0</td>\n",
       "      <td>0.0</td>\n",
       "      <td>0.0</td>\n",
       "    </tr>\n",
       "    <tr>\n",
       "      <th>9996</th>\n",
       "      <td>0.0</td>\n",
       "      <td>0.0</td>\n",
       "      <td>0.0</td>\n",
       "      <td>0.0</td>\n",
       "      <td>0.0</td>\n",
       "      <td>0.0</td>\n",
       "      <td>0.0</td>\n",
       "      <td>0.0</td>\n",
       "      <td>0.0</td>\n",
       "      <td>0.0</td>\n",
       "      <td>...</td>\n",
       "      <td>0.0</td>\n",
       "      <td>0.0</td>\n",
       "      <td>0.0</td>\n",
       "      <td>0.0</td>\n",
       "      <td>0.0</td>\n",
       "      <td>0.0</td>\n",
       "      <td>0.0</td>\n",
       "      <td>0.0</td>\n",
       "      <td>0.0</td>\n",
       "      <td>0.0</td>\n",
       "    </tr>\n",
       "    <tr>\n",
       "      <th>9997</th>\n",
       "      <td>0.0</td>\n",
       "      <td>0.0</td>\n",
       "      <td>0.0</td>\n",
       "      <td>0.0</td>\n",
       "      <td>0.0</td>\n",
       "      <td>0.0</td>\n",
       "      <td>0.0</td>\n",
       "      <td>0.0</td>\n",
       "      <td>0.0</td>\n",
       "      <td>0.0</td>\n",
       "      <td>...</td>\n",
       "      <td>0.0</td>\n",
       "      <td>0.0</td>\n",
       "      <td>0.0</td>\n",
       "      <td>0.0</td>\n",
       "      <td>0.0</td>\n",
       "      <td>0.0</td>\n",
       "      <td>0.0</td>\n",
       "      <td>0.0</td>\n",
       "      <td>0.0</td>\n",
       "      <td>0.0</td>\n",
       "    </tr>\n",
       "    <tr>\n",
       "      <th>9998</th>\n",
       "      <td>0.0</td>\n",
       "      <td>0.0</td>\n",
       "      <td>0.0</td>\n",
       "      <td>0.0</td>\n",
       "      <td>0.0</td>\n",
       "      <td>0.0</td>\n",
       "      <td>0.0</td>\n",
       "      <td>0.0</td>\n",
       "      <td>0.0</td>\n",
       "      <td>0.0</td>\n",
       "      <td>...</td>\n",
       "      <td>0.0</td>\n",
       "      <td>0.0</td>\n",
       "      <td>0.0</td>\n",
       "      <td>0.0</td>\n",
       "      <td>0.0</td>\n",
       "      <td>0.0</td>\n",
       "      <td>0.0</td>\n",
       "      <td>0.0</td>\n",
       "      <td>0.0</td>\n",
       "      <td>0.0</td>\n",
       "    </tr>\n",
       "    <tr>\n",
       "      <th>9999</th>\n",
       "      <td>0.0</td>\n",
       "      <td>0.0</td>\n",
       "      <td>0.0</td>\n",
       "      <td>0.0</td>\n",
       "      <td>0.0</td>\n",
       "      <td>0.0</td>\n",
       "      <td>0.0</td>\n",
       "      <td>0.0</td>\n",
       "      <td>0.0</td>\n",
       "      <td>0.0</td>\n",
       "      <td>...</td>\n",
       "      <td>0.0</td>\n",
       "      <td>0.0</td>\n",
       "      <td>0.0</td>\n",
       "      <td>0.0</td>\n",
       "      <td>0.0</td>\n",
       "      <td>0.0</td>\n",
       "      <td>0.0</td>\n",
       "      <td>0.0</td>\n",
       "      <td>0.0</td>\n",
       "      <td>0.0</td>\n",
       "    </tr>\n",
       "  </tbody>\n",
       "</table>\n",
       "<p>10000 rows × 16388 columns</p>\n",
       "</div>"
      ],
      "text/plain": [
       "       00  000  000mg  000vl  00am  00for  00p  00pm   01   02  ...  zyban  \\\n",
       "0     0.0  0.0    0.0    0.0   0.0    0.0  0.0   0.0  0.0  0.0  ...    0.0   \n",
       "1     0.0  0.0    0.0    0.0   0.0    0.0  0.0   0.0  0.0  0.0  ...    0.0   \n",
       "2     0.0  0.0    0.0    0.0   0.0    0.0  0.0   0.0  0.0  0.0  ...    0.0   \n",
       "3     0.0  0.0    0.0    0.0   0.0    0.0  0.0   0.0  0.0  0.0  ...    0.0   \n",
       "4     0.0  0.0    0.0    0.0   0.0    0.0  0.0   0.0  0.0  0.0  ...    0.0   \n",
       "...   ...  ...    ...    ...   ...    ...  ...   ...  ...  ...  ...    ...   \n",
       "9995  0.0  0.0    0.0    0.0   0.0    0.0  0.0   0.0  0.0  0.0  ...    0.0   \n",
       "9996  0.0  0.0    0.0    0.0   0.0    0.0  0.0   0.0  0.0  0.0  ...    0.0   \n",
       "9997  0.0  0.0    0.0    0.0   0.0    0.0  0.0   0.0  0.0  0.0  ...    0.0   \n",
       "9998  0.0  0.0    0.0    0.0   0.0    0.0  0.0   0.0  0.0  0.0  ...    0.0   \n",
       "9999  0.0  0.0    0.0    0.0   0.0    0.0  0.0   0.0  0.0  0.0  ...    0.0   \n",
       "\n",
       "      zyclara  zydeco  zydis  zydus  zymar  zyprexa  zyrtec  zyvox  zzzquil  \n",
       "0         0.0     0.0    0.0    0.0    0.0      0.0     0.0    0.0      0.0  \n",
       "1         0.0     0.0    0.0    0.0    0.0      0.0     0.0    0.0      0.0  \n",
       "2         0.0     0.0    0.0    0.0    0.0      0.0     0.0    0.0      0.0  \n",
       "3         0.0     0.0    0.0    0.0    0.0      0.0     0.0    0.0      0.0  \n",
       "4         0.0     0.0    0.0    0.0    0.0      0.0     0.0    0.0      0.0  \n",
       "...       ...     ...    ...    ...    ...      ...     ...    ...      ...  \n",
       "9995      0.0     0.0    0.0    0.0    0.0      0.0     0.0    0.0      0.0  \n",
       "9996      0.0     0.0    0.0    0.0    0.0      0.0     0.0    0.0      0.0  \n",
       "9997      0.0     0.0    0.0    0.0    0.0      0.0     0.0    0.0      0.0  \n",
       "9998      0.0     0.0    0.0    0.0    0.0      0.0     0.0    0.0      0.0  \n",
       "9999      0.0     0.0    0.0    0.0    0.0      0.0     0.0    0.0      0.0  \n",
       "\n",
       "[10000 rows x 16388 columns]"
      ]
     },
     "execution_count": 24,
     "metadata": {},
     "output_type": "execute_result"
    }
   ],
   "source": [
    "## scale the data\n",
    "tf_idf_df"
   ]
  },
  {
   "cell_type": "code",
   "execution_count": 25,
   "metadata": {},
   "outputs": [
    {
     "data": {
      "text/plain": [
       "KMeans(n_clusters=5)"
      ]
     },
     "execution_count": 25,
     "metadata": {},
     "output_type": "execute_result"
    }
   ],
   "source": [
    "from sklearn.cluster import KMeans\n",
    "kmeans = KMeans(n_clusters = 5)\n",
    "kmeans.fit(tf_idf_df)    "
   ]
  },
  {
   "cell_type": "code",
   "execution_count": 31,
   "metadata": {},
   "outputs": [],
   "source": [
    "labels = kmeans.predict(tf_idf_df)"
   ]
  },
  {
   "cell_type": "code",
   "execution_count": 32,
   "metadata": {},
   "outputs": [
    {
     "data": {
      "image/png": "[encoded data removed]",
      "text/plain": [
       "<Figure size 432x288 with 1 Axes>"
      ]
     },
     "metadata": {
      "needs_background": "light"
     },
     "output_type": "display_data"
    }
   ],
   "source": [
    "#plt.hist(labels)\n",
    "#plt.show()"
   ]
  },
  {
   "cell_type": "code",
   "execution_count": 33,
   "metadata": {},
   "outputs": [
    {
     "data": {
      "text/plain": [
       "KMeans(n_clusters=10)"
      ]
     },
     "execution_count": 33,
     "metadata": {},
     "output_type": "execute_result"
    }
   ],
   "source": [
    "kmeans10 = KMeans(n_clusters = 10)\n",
    "kmeans10.fit(tf_idf_df)"
   ]
  },
  {
   "cell_type": "code",
   "execution_count": 34,
   "metadata": {},
   "outputs": [
    {
     "data": {
      "image/png": "[encoded data removed]",
      "text/plain": [
       "<Figure size 432x288 with 1 Axes>"
      ]
     },
     "metadata": {
      "needs_background": "light"
     },
     "output_type": "display_data"
    }
   ],
   "source": [
    "#labels10 = kmeans10.predict(tf_idf_df)\n",
    "#plt.hist(labels10)\n",
    "#plt.show()"
   ]
  },
  {
   "cell_type": "code",
   "execution_count": 35,
   "metadata": {},
   "outputs": [
    {
     "data": {
      "text/plain": [
       "<function matplotlib.pyplot.show(*args, **kw)>"
      ]
     },
     "execution_count": 35,
     "metadata": {},
     "output_type": "execute_result"
    },
    {
     "data": {
      "image/png": "[encoded data removed]",
      "text/plain": [
       "<Figure size 432x288 with 1 Axes>"
      ]
     },
     "metadata": {
      "needs_background": "light"
     },
     "output_type": "display_data"
    }
   ],
   "source": [
    "#plt.hist(drug_reviews.rating)\n",
    "#plt.show"
   ]
  },
  {
   "cell_type": "code",
   "execution_count": 36,
   "metadata": {},
   "outputs": [
    {
     "name": "stdout",
     "output_type": "stream",
     "text": [
      "training time is 17.685103178024292\n",
      "training time is 25.017849922180176\n",
      "training time is 36.16462779045105\n",
      "training time is 46.83651113510132\n",
      "training time is 43.96499824523926\n",
      "training time is 60.14298701286316\n",
      "training time is 56.46873497962952\n",
      "training time is 64.45292043685913\n",
      "training time is 66.76763701438904\n",
      "training time is 66.23136043548584\n",
      "training time is 69.71385049819946\n",
      "training time is 390.70716547966003\n",
      "training time is 99.04571175575256\n"
     ]
    }
   ],
   "source": [
    "k_values = range(2,15)\n",
    "\n",
    "inertias = []\n",
    "for k in k_values:\n",
    "    start = time()\n",
    "    cluster = KMeans(n_clusters = k, random_state =0).fit(tf_idf_df)\n",
    "    end = time()\n",
    "    print('training time is '+str(end-start))\n",
    "    inertias.append(cluster.inertia_)"
   ]
  },
  {
   "cell_type": "code",
   "execution_count": 37,
   "metadata": {},
   "outputs": [
    {
     "data": {
      "image/png": "[encoded data removed]",
      "text/plain": [
       "<Figure size 432x288 with 1 Axes>"
      ]
     },
     "metadata": {
      "needs_background": "light"
     },
     "output_type": "display_data"
    }
   ],
   "source": [
    "plt.plot(k_values, inertias, 'bx-')\n",
    "plt.xlabel('K')\n",
    "plt.ylabel('Inertia')\n",
    "plt.title('Inertia by Values of K')\n",
    "plt.show()"
   ]
  },
  {
   "cell_type": "code",
   "execution_count": 38,
   "metadata": {},
   "outputs": [],
   "source": [
    "## there is no obvious result from the elbow method.\n",
    "## 5 seems reasonable"
   ]
  },
  {
   "cell_type": "markdown",
   "metadata": {},
   "source": [
    "## topic modeling with NMF"
   ]
  },
  {
   "cell_type": "code",
   "execution_count": 66,
   "metadata": {},
   "outputs": [
    {
     "name": "stdout",
     "output_type": "stream",
     "text": [
      "training time for nmf_model is 3.518583297729492\n"
     ]
    }
   ],
   "source": [
    "## NMF model for topic modeling\n",
    "## chosing 5 components as 5 topics, this might need tuning.\n",
    "start=time()\n",
    "nmf_model = NMF(n_components=5, random_state=0)\n",
    "nmf_model.fit(csr_mat)\n",
    "nmf_features = nmf_model.transform(csr_mat)\n",
    "end=time()\n",
    "print('training time for nmf_model is '+str(end-start))"
   ]
  },
  {
   "cell_type": "code",
   "execution_count": 16,
   "metadata": {},
   "outputs": [
    {
     "data": {
      "text/plain": [
       "(10000, 5)"
      ]
     },
     "execution_count": 16,
     "metadata": {},
     "output_type": "execute_result"
    }
   ],
   "source": [
    "nmf_features.shape"
   ]
  },
  {
   "cell_type": "code",
   "execution_count": 17,
   "metadata": {},
   "outputs": [
    {
     "data": {
      "text/plain": [
       "array([[0.00000000e+00, 3.66780979e-03, 2.37581364e-03, ...,\n",
       "        4.51694274e-04, 0.00000000e+00, 0.00000000e+00],\n",
       "       [0.00000000e+00, 0.00000000e+00, 3.42604478e-04, ...,\n",
       "        0.00000000e+00, 0.00000000e+00, 0.00000000e+00],\n",
       "       [0.00000000e+00, 0.00000000e+00, 3.95838429e-04, ...,\n",
       "        0.00000000e+00, 5.45751977e-05, 1.28377997e-03],\n",
       "       [6.32605531e-03, 0.00000000e+00, 0.00000000e+00, ...,\n",
       "        3.07824158e-03, 0.00000000e+00, 0.00000000e+00],\n",
       "       [4.28657562e-02, 1.39481106e-02, 0.00000000e+00, ...,\n",
       "        1.20349317e-02, 3.13603772e-03, 2.63517877e-03]])"
      ]
     },
     "execution_count": 17,
     "metadata": {},
     "output_type": "execute_result"
    }
   ],
   "source": [
    "## components are the topics\n",
    "nmf_model.components_"
   ]
  },
  {
   "cell_type": "code",
   "execution_count": 18,
   "metadata": {},
   "outputs": [],
   "source": [
    "## compress normalized features with conditions\n",
    "nmf_df = pd.DataFrame(normalize(nmf_features), index = drug_reviews.condition)\n"
   ]
  },
  {
   "cell_type": "code",
   "execution_count": 23,
   "metadata": {},
   "outputs": [
    {
     "data": {
      "text/plain": [
       "anxiety       1.414755\n",
       "life          0.944589\n",
       "depression    0.893069\n",
       "years         0.718724\n",
       "medication    0.638557\n",
       "panic         0.561459\n",
       "effects       0.499946\n",
       "attacks       0.436879\n",
       "ve            0.436875\n",
       "helped        0.396119\n",
       "Name: 0, dtype: float64"
      ]
     },
     "execution_count": 23,
     "metadata": {},
     "output_type": "execute_result"
    }
   ],
   "source": [
    "## compress the topics into a data frame, the index are the word tokens from the tf_idf data which we used to train the nmf model\n",
    "components_df = pd.DataFrame(nmf_model.components_, columns=tf_idf_df.columns)\n",
    "## what are the most important words for the first topic \n",
    "components_df.iloc[0].nlargest(10)"
   ]
  },
  {
   "cell_type": "code",
   "execution_count": 47,
   "metadata": {},
   "outputs": [
    {
     "data": {
      "text/plain": [
       "period     0.981489\n",
       "pill       0.783779\n",
       "birth      0.768534\n",
       "control    0.742624\n",
       "months     0.626705\n",
       "ve         0.620673\n",
       "weight     0.576441\n",
       "acne       0.530460\n",
       "month      0.522096\n",
       "periods    0.522052\n",
       "Name: 1, dtype: float64"
      ]
     },
     "execution_count": 47,
     "metadata": {},
     "output_type": "execute_result"
    }
   ],
   "source": [
    "##most important words for the second topic\n",
    "components_df.iloc[1].nlargest(10)"
   ]
  },
  {
   "cell_type": "code",
   "execution_count": 44,
   "metadata": {},
   "outputs": [
    {
     "data": {
      "text/plain": [
       "pain        2.369094\n",
       "relief      0.322607\n",
       "severe      0.251818\n",
       "chronic     0.228251\n",
       "medicine    0.212161\n",
       "years       0.180932\n",
       "helped      0.166879\n",
       "knee        0.156400\n",
       "muscle      0.153706\n",
       "help        0.150763\n",
       "Name: 2, dtype: float64"
      ]
     },
     "execution_count": 44,
     "metadata": {},
     "output_type": "execute_result"
    }
   ],
   "source": [
    "components_df.iloc[2].nlargest(10)"
   ]
  },
  {
   "cell_type": "code",
   "execution_count": 43,
   "metadata": {},
   "outputs": [
    {
     "data": {
      "text/plain": [
       "works       2.279566\n",
       "great       1.269354\n",
       "medicine    0.306163\n",
       "effects     0.285117\n",
       "really      0.248151\n",
       "thing       0.177022\n",
       "worked      0.157180\n",
       "best        0.146761\n",
       "use         0.140183\n",
       "product     0.106614\n",
       "Name: 3, dtype: float64"
      ]
     },
     "execution_count": 43,
     "metadata": {},
     "output_type": "execute_result"
    }
   ],
   "source": [
    "components_df.iloc[3].nlargest(10)"
   ]
  },
  {
   "cell_type": "code",
   "execution_count": 42,
   "metadata": {},
   "outputs": [
    {
     "data": {
      "text/plain": [
       "day        1.107916\n",
       "days       0.628380\n",
       "taking     0.576374\n",
       "took       0.567738\n",
       "feel       0.554315\n",
       "like       0.527648\n",
       "started    0.527510\n",
       "night      0.511590\n",
       "just       0.483742\n",
       "felt       0.435177\n",
       "Name: 4, dtype: float64"
      ]
     },
     "execution_count": 42,
     "metadata": {},
     "output_type": "execute_result"
    }
   ],
   "source": [
    "components_df.iloc[4].nlargest(10)"
   ]
  },
  {
   "cell_type": "code",
   "execution_count": 24,
   "metadata": {},
   "outputs": [
    {
     "data": {
      "text/html": [
       "<div>\n",
       "<style scoped>\n",
       "    .dataframe tbody tr th:only-of-type {\n",
       "        vertical-align: middle;\n",
       "    }\n",
       "\n",
       "    .dataframe tbody tr th {\n",
       "        vertical-align: top;\n",
       "    }\n",
       "\n",
       "    .dataframe thead th {\n",
       "        text-align: right;\n",
       "    }\n",
       "</style>\n",
       "<table border=\"1\" class=\"dataframe\">\n",
       "  <thead>\n",
       "    <tr style=\"text-align: right;\">\n",
       "      <th></th>\n",
       "      <th>0</th>\n",
       "      <th>1</th>\n",
       "      <th>2</th>\n",
       "      <th>3</th>\n",
       "      <th>4</th>\n",
       "    </tr>\n",
       "    <tr>\n",
       "      <th>condition</th>\n",
       "      <th></th>\n",
       "      <th></th>\n",
       "      <th></th>\n",
       "      <th></th>\n",
       "      <th></th>\n",
       "    </tr>\n",
       "  </thead>\n",
       "  <tbody>\n",
       "    <tr>\n",
       "      <th>ADHD</th>\n",
       "      <td>0.039677</td>\n",
       "      <td>0.177203</td>\n",
       "      <td>0.001863</td>\n",
       "      <td>0.000000</td>\n",
       "      <td>0.983372</td>\n",
       "    </tr>\n",
       "    <tr>\n",
       "      <th>ADHD</th>\n",
       "      <td>0.615614</td>\n",
       "      <td>0.233222</td>\n",
       "      <td>0.185736</td>\n",
       "      <td>0.107400</td>\n",
       "      <td>0.721523</td>\n",
       "    </tr>\n",
       "    <tr>\n",
       "      <th>ADHD</th>\n",
       "      <td>0.415059</td>\n",
       "      <td>0.018341</td>\n",
       "      <td>0.141479</td>\n",
       "      <td>0.000000</td>\n",
       "      <td>0.898539</td>\n",
       "    </tr>\n",
       "    <tr>\n",
       "      <th>ADHD</th>\n",
       "      <td>0.351338</td>\n",
       "      <td>0.000000</td>\n",
       "      <td>0.000000</td>\n",
       "      <td>0.000000</td>\n",
       "      <td>0.936249</td>\n",
       "    </tr>\n",
       "    <tr>\n",
       "      <th>ADHD</th>\n",
       "      <td>0.130487</td>\n",
       "      <td>0.000000</td>\n",
       "      <td>0.000000</td>\n",
       "      <td>0.192398</td>\n",
       "      <td>0.972603</td>\n",
       "    </tr>\n",
       "    <tr>\n",
       "      <th>...</th>\n",
       "      <td>...</td>\n",
       "      <td>...</td>\n",
       "      <td>...</td>\n",
       "      <td>...</td>\n",
       "      <td>...</td>\n",
       "    </tr>\n",
       "    <tr>\n",
       "      <th>ADHD</th>\n",
       "      <td>0.429579</td>\n",
       "      <td>0.332932</td>\n",
       "      <td>0.000000</td>\n",
       "      <td>0.000000</td>\n",
       "      <td>0.839415</td>\n",
       "    </tr>\n",
       "    <tr>\n",
       "      <th>ADHD</th>\n",
       "      <td>0.429346</td>\n",
       "      <td>0.000000</td>\n",
       "      <td>0.000000</td>\n",
       "      <td>0.000000</td>\n",
       "      <td>0.903140</td>\n",
       "    </tr>\n",
       "    <tr>\n",
       "      <th>ADHD</th>\n",
       "      <td>0.842175</td>\n",
       "      <td>0.033489</td>\n",
       "      <td>0.000000</td>\n",
       "      <td>0.000000</td>\n",
       "      <td>0.538164</td>\n",
       "    </tr>\n",
       "    <tr>\n",
       "      <th>ADHD</th>\n",
       "      <td>0.681632</td>\n",
       "      <td>0.106228</td>\n",
       "      <td>0.156154</td>\n",
       "      <td>0.008154</td>\n",
       "      <td>0.706855</td>\n",
       "    </tr>\n",
       "    <tr>\n",
       "      <th>ADHD</th>\n",
       "      <td>0.646299</td>\n",
       "      <td>0.180590</td>\n",
       "      <td>0.074108</td>\n",
       "      <td>0.467534</td>\n",
       "      <td>0.570618</td>\n",
       "    </tr>\n",
       "  </tbody>\n",
       "</table>\n",
       "<p>231 rows × 5 columns</p>\n",
       "</div>"
      ],
      "text/plain": [
       "                  0         1         2         3         4\n",
       "condition                                                  \n",
       "ADHD       0.039677  0.177203  0.001863  0.000000  0.983372\n",
       "ADHD       0.615614  0.233222  0.185736  0.107400  0.721523\n",
       "ADHD       0.415059  0.018341  0.141479  0.000000  0.898539\n",
       "ADHD       0.351338  0.000000  0.000000  0.000000  0.936249\n",
       "ADHD       0.130487  0.000000  0.000000  0.192398  0.972603\n",
       "...             ...       ...       ...       ...       ...\n",
       "ADHD       0.429579  0.332932  0.000000  0.000000  0.839415\n",
       "ADHD       0.429346  0.000000  0.000000  0.000000  0.903140\n",
       "ADHD       0.842175  0.033489  0.000000  0.000000  0.538164\n",
       "ADHD       0.681632  0.106228  0.156154  0.008154  0.706855\n",
       "ADHD       0.646299  0.180590  0.074108  0.467534  0.570618\n",
       "\n",
       "[231 rows x 5 columns]"
      ]
     },
     "execution_count": 24,
     "metadata": {},
     "output_type": "execute_result"
    }
   ],
   "source": [
    "## takes a look at the nmf features for ADHD condition\n",
    "nmf_df.loc['ADHD']"
   ]
  },
  {
   "cell_type": "code",
   "execution_count": 93,
   "metadata": {},
   "outputs": [
    {
     "data": {
      "text/plain": [
       "condition\n",
       "Body Dysmorphic Disorde                        0.817721\n",
       "28</span> users found this comment helpful.    0.816335\n",
       "Paroxysmal Supraventricular Tachycardia        0.812058\n",
       "Hyperthyroidism                                0.811932\n",
       "Lymphocytic Colitis                            0.808871\n",
       "dtype: float64"
      ]
     },
     "execution_count": 93,
     "metadata": {},
     "output_type": "execute_result"
    }
   ],
   "source": [
    "## using median to access all the reviews based on condition\n",
    "df1 = nmf_df.groupby(nmf_df.index).mean()\n",
    "s1 = df1.dot(df1.loc['Depression'])\n",
    "## what are the most similar review for condition of ADHD\n",
    "s1.nlargest()"
   ]
  },
  {
   "cell_type": "code",
   "execution_count": 91,
   "metadata": {},
   "outputs": [
    {
     "data": {
      "text/plain": [
       "condition\n",
       "Paroxysmal Supraventricular Tachycardia    0.838924\n",
       "Body Dysmorphic Disorde                    0.829551\n",
       "Seasonal Affective Disorde                 0.829476\n",
       "Opioid Overdose                            0.829373\n",
       "Immunosuppression                          0.822972\n",
       "dtype: float64"
      ]
     },
     "execution_count": 91,
     "metadata": {},
     "output_type": "execute_result"
    }
   ],
   "source": [
    "s2 = df1.dot(df1.loc['Anxiety'])\n",
    "## what are the most similar review for condition of Birth Control\n",
    "s2.nlargest()"
   ]
  },
  {
   "cell_type": "code",
   "execution_count": 47,
   "metadata": {},
   "outputs": [],
   "source": [
    "#concordance of some top words\n"
   ]
  },
  {
   "cell_type": "code",
   "execution_count": 36,
   "metadata": {},
   "outputs": [],
   "source": [
    "tokens = []\n",
    "drug_reviews['clean_tokens'] = drug_reviews.review.map(clean_text)\n",
    "for i in drug_reviews.clean_tokens:\n",
    "    tokens.append()"
   ]
  },
  {
   "cell_type": "code",
   "execution_count": 43,
   "metadata": {},
   "outputs": [],
   "source": [
    "#review = ' '.join([j for i in tokens for j in i])"
   ]
  },
  {
   "cell_type": "code",
   "execution_count": 51,
   "metadata": {},
   "outputs": [],
   "source": [
    "text =nltk.Text([j for i in tokens for j in i])"
   ]
  },
  {
   "cell_type": "code",
   "execution_count": 54,
   "metadata": {},
   "outputs": [
    {
     "name": "stdout",
     "output_type": "stream",
     "text": [
      "Displaying 25 of 3325 matches:\n",
      "od sev sid affect mak go tak cymbalt pain beg deplin maj improv overnight mor \n",
      " kept awak good fit ev though reliev pain start aft week som breakthrough pain\n",
      "pain start aft week som breakthrough pain dr increas dos stil dos today first \n",
      "til dos today first ful year thi nev pain felt tim went seem help control pain\n",
      "pain felt tim went seem help control pain stil hav pain low man level tak thi \n",
      "went seem help control pain stil hav pain low man level tak thi around ev avoi\n",
      "ct feel sick stomach tir sev leg arm pain ca walk long without nee break went \n",
      " absorb pil stil expery mild stomach pain nause gon writ second review vaniq s\n",
      "first suff thi includ splitting head pain nause vomit start us excedrin aft wh\n",
      "pl composit spin injury year ago ach pain unbear start tak year ago start get \n",
      "adol quot depo quot someth almost al pain med mean stil hav bad day funct burn\n",
      "zero sid effect thank mak norm reduc pain let liv norm lif much pain last year\n",
      "orm reduc pain let liv norm lif much pain last year hav suff brain tumo hav lo\n",
      "ast year hav suff brain tumo hav lot pain point morphin everyday year brain su\n",
      " morphin everyday year brain surgery pain thi pil cam pretty clos sery pain po\n",
      "ry pain thi pil cam pretty clos sery pain point black hot cold shiv sat pain f\n",
      "y pain point black hot cold shiv sat pain feel lik trap ahhhh tak thi hav morp\n",
      " morphin least year medicin seem man pain without would bed tim hav lif hav ta\n",
      "hav maj issu class seem work opposit pain man doct put patch week ago mg dos f\n",
      "en mg dos soon cut norco hav chronic pain many year hav many medicin includ ox\n",
      "sid effect lov patch reliev mor half pain know thi becaus hav tak less half pa\n",
      "in know thi becaus hav tak less half pain kil patch chang patch every saturday\n",
      "chang patch every saturday miss hour pain start resid ar heavy drink would adv\n",
      "tart expery mor cramp strong stomach pain wer bad miss work week fin end going\n",
      "t til would lik shar thi feel slight pain back head al keep fing cross til fin\n"
     ]
    }
   ],
   "source": [
    "text.concordance('pain')"
   ]
  },
  {
   "cell_type": "code",
   "execution_count": 55,
   "metadata": {},
   "outputs": [
    {
     "name": "stdout",
     "output_type": "stream",
     "text": [
      "hav thi anxy day tak aft cramp period al us start mor pil sleep get\n",
      "tim acn week med headach\n"
     ]
    }
   ],
   "source": [
    "text.similar('pain')"
   ]
  },
  {
   "cell_type": "code",
   "execution_count": 59,
   "metadata": {},
   "outputs": [
    {
     "name": "stdout",
     "output_type": "stream",
     "text": [
      "sev back hav extrem tak low som get const help stomach much mor pain\n",
      "thi suff musc work expery chest\n"
     ]
    }
   ],
   "source": [
    "text.similar('chronic')"
   ]
  },
  {
   "cell_type": "markdown",
   "metadata": {},
   "source": [
    "## topic modeling with LDA"
   ]
  },
  {
   "cell_type": "code",
   "execution_count": 68,
   "metadata": {},
   "outputs": [
    {
     "name": "stdout",
     "output_type": "stream",
     "text": [
      "the training time for LDA model is 57.995107650756836\n"
     ]
    }
   ],
   "source": [
    "start=time()\n",
    "lda_model = LatentDirichletAllocation(n_components=5, random_state=0)\n",
    "lda_model.fit(csr_mat)\n",
    "lda_features = lda_model.transform(csr_mat)\n",
    "end=time()\n",
    "print('the training time for LDA model is '+str(end-start))"
   ]
  },
  {
   "cell_type": "code",
   "execution_count": 64,
   "metadata": {},
   "outputs": [
    {
     "data": {
      "text/plain": [
       "array([[2.21430878, 1.24210885, 0.20030458, ..., 0.20008631, 0.20004368,\n",
       "        0.2000225 ],\n",
       "       [0.71886395, 0.91594449, 0.20010262, ..., 0.20145799, 0.94049142,\n",
       "        0.20003664],\n",
       "       [4.82250446, 0.21747371, 0.66910609, ..., 3.17618043, 0.20091173,\n",
       "        0.20000535],\n",
       "       [0.44178887, 0.20038413, 0.29707615, ..., 0.20192899, 0.20006748,\n",
       "        0.20003893],\n",
       "       [5.77283967, 2.81345188, 0.20002952, ..., 1.70788634, 0.21353384,\n",
       "        0.9507819 ]])"
      ]
     },
     "execution_count": 64,
     "metadata": {},
     "output_type": "execute_result"
    }
   ],
   "source": [
    "lda_model.components_"
   ]
  },
  {
   "cell_type": "code",
   "execution_count": 69,
   "metadata": {},
   "outputs": [
    {
     "data": {
      "text/plain": [
       "skin         38.199790\n",
       "face         27.936175\n",
       "using        22.559497\n",
       "acne         21.984287\n",
       "product      20.373341\n",
       "cream        19.639970\n",
       "itching      17.906192\n",
       "use          17.837860\n",
       "infection    15.557485\n",
       "burning      15.370010\n",
       "Name: 0, dtype: float64"
      ]
     },
     "execution_count": 69,
     "metadata": {},
     "output_type": "execute_result"
    }
   ],
   "source": [
    "lda_df = pd.DataFrame(normalize(lda_features), index = drug_reviews.condition)\n",
    "lda_components_df = pd.DataFrame(lda_model.components_, columns=tf_idf_df.columns)\n",
    "## what are the most important words for the first topic \n",
    "lda_components_df.iloc[0].nlargest(10)"
   ]
  },
  {
   "cell_type": "code",
   "execution_count": 70,
   "metadata": {},
   "outputs": [
    {
     "data": {
      "text/plain": [
       "gerd        4.539263\n",
       "blurred     4.475322\n",
       "vision      3.809384\n",
       "cancer      3.656939\n",
       "enbrel      3.646449\n",
       "harvoni     3.580661\n",
       "crestor     3.345606\n",
       "bladder     3.037896\n",
       "warfarin    2.941122\n",
       "advair      2.899088\n",
       "Name: 1, dtype: float64"
      ]
     },
     "execution_count": 70,
     "metadata": {},
     "output_type": "execute_result"
    }
   ],
   "source": [
    "lda_components_df.iloc[1].nlargest(10)"
   ]
  },
  {
   "cell_type": "code",
   "execution_count": 71,
   "metadata": {},
   "outputs": [
    {
     "data": {
      "text/plain": [
       "pain       195.290901\n",
       "ve         173.303566\n",
       "period     159.241206\n",
       "pill       158.692482\n",
       "months     156.935508\n",
       "taking     143.116140\n",
       "day        142.294623\n",
       "just       137.698469\n",
       "days       134.680506\n",
       "effects    130.459077\n",
       "Name: 2, dtype: float64"
      ]
     },
     "execution_count": 71,
     "metadata": {},
     "output_type": "execute_result"
    }
   ],
   "source": [
    "lda_components_df.iloc[2].nlargest(10)"
   ]
  },
  {
   "cell_type": "code",
   "execution_count": 72,
   "metadata": {},
   "outputs": [
    {
     "data": {
      "text/plain": [
       "excellent       4.708338\n",
       "helpful         3.666075\n",
       "infusion        3.659902\n",
       "nexium          3.287304\n",
       "drysol          2.990642\n",
       "elbow           2.772824\n",
       "symbicort       2.659807\n",
       "infusions       2.389060\n",
       "manufacturer    2.383549\n",
       "remicade        2.281785\n",
       "Name: 3, dtype: float64"
      ]
     },
     "execution_count": 72,
     "metadata": {},
     "output_type": "execute_result"
    }
   ],
   "source": [
    "lda_components_df.iloc[3].nlargest(10)"
   ]
  },
  {
   "cell_type": "code",
   "execution_count": 73,
   "metadata": {},
   "outputs": [
    {
     "data": {
      "text/plain": [
       "anxiety       94.720552\n",
       "day           91.215327\n",
       "effects       81.067079\n",
       "taking        79.320810\n",
       "sleep         78.027597\n",
       "years         64.835364\n",
       "medication    64.019218\n",
       "night         63.377899\n",
       "mg            61.551065\n",
       "feel          59.621753\n",
       "Name: 4, dtype: float64"
      ]
     },
     "execution_count": 73,
     "metadata": {},
     "output_type": "execute_result"
    }
   ],
   "source": [
    "lda_components_df.iloc[4].nlargest(10)"
   ]
  },
  {
   "cell_type": "code",
   "execution_count": 74,
   "metadata": {},
   "outputs": [
    {
     "data": {
      "text/plain": [
       "-459789.4891385048"
      ]
     },
     "execution_count": 74,
     "metadata": {},
     "output_type": "execute_result"
    }
   ],
   "source": [
    "##calculate approximate log-likelyhood as score.\n",
    "lda_model.score(csr_mat)"
   ]
  },
  {
   "cell_type": "code",
   "execution_count": 88,
   "metadata": {},
   "outputs": [],
   "source": [
    "## code modified from sklearn documentation\n",
    "## plot the top words of each topics\n",
    "## https://scikit-learn.org/stable/auto_examples/applications/plot_topics_extraction_with_nmf_lda.html#sphx-glr-auto-examples-applications-plot-topics-extraction-with-nmf-lda-py\n",
    "def plot_top_words(model, feature_names, n_top_words, title):\n",
    "    fig, axes = plt.subplots(1, 5, figsize=(30, 8), sharex=True)\n",
    "    axes = axes.flatten()\n",
    "    for topic_idx, topic in enumerate(model.components_):\n",
    "        top_features_ind = topic.argsort()[: -n_top_words - 1 : -1]\n",
    "        top_features = [feature_names[i] for i in top_features_ind]\n",
    "        weights = topic[top_features_ind]\n",
    "\n",
    "        ax = axes[topic_idx]\n",
    "        ax.barh(top_features, weights, height=0.7)\n",
    "        ax.set_title(f\"Topic {topic_idx +1}\", fontdict={\"fontsize\": 30})\n",
    "        ax.invert_yaxis()\n",
    "        ax.tick_params(axis=\"both\", which=\"major\", labelsize=20)\n",
    "        for i in \"top right left\".split():\n",
    "            ax.spines[i].set_visible(False)\n",
    "        fig.suptitle(title, fontsize=40)\n",
    "\n",
    "    plt.subplots_adjust(top=0.8, bottom=0.05, wspace=0.90, hspace=0.3)\n",
    "    plt.show()\n"
   ]
  },
  {
   "cell_type": "code",
   "execution_count": 96,
   "metadata": {
    "scrolled": true
   },
   "outputs": [
    {
     "data": {
      "image/png": "[encoded data removed]",
      "text/plain": [
       "<Figure size 2160x576 with 5 Axes>"
      ]
     },
     "metadata": {
      "needs_background": "light"
     },
     "output_type": "display_data"
    }
   ],
   "source": [
    "## plot for NMF model topics' top words\n",
    "plot_top_words(model=nmf_model, \n",
    "               feature_names=tf_idf_df.columns,\n",
    "               n_top_words=15,\n",
    "               title='Topics in NMF model')"
   ]
  },
  {
   "cell_type": "code",
   "execution_count": 97,
   "metadata": {},
   "outputs": [
    {
     "data": {
      "image/png": "[encoded data removed]",
      "text/plain": [
       "<Figure size 2160x576 with 5 Axes>"
      ]
     },
     "metadata": {
      "needs_background": "light"
     },
     "output_type": "display_data"
    }
   ],
   "source": [
    "plot_top_words(model=lda_model,\n",
    "              feature_names=tf_idf_df.columns,\n",
    "              n_top_words=15,\n",
    "              title='Topcis in LDA model')"
   ]
  }
 ],
 "metadata": {
  "kernelspec": {
   "display_name": "Python 3",
   "language": "python",
   "name": "python3"
  },
  "language_info": {
   "codemirror_mode": {
    "name": "ipython",
    "version": 3
   },
   "file_extension": ".py",
   "mimetype": "text/x-python",
   "name": "python",
   "nbconvert_exporter": "python",
   "pygments_lexer": "ipython3",
   "version": "3.8.5"
  }
 },
 "nbformat": 4,
 "nbformat_minor": 4
}
